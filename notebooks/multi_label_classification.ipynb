{
 "cells": [
  {
   "cell_type": "markdown",
   "metadata": {
    "id": "Bg-XAKDpXkGy"
   },
   "source": [
    "# Multi-label классификация по ключевым словам\n"
   ]
  },
  {
   "cell_type": "markdown",
   "metadata": {
    "id": "gEQuPg3PXkG4"
   },
   "source": []
  },
  {
   "cell_type": "markdown",
   "metadata": {
    "id": "Cxixp_M_XkG5"
   },
   "source": [
    "## Импорты"
   ]
  },
  {
   "cell_type": "code",
   "execution_count": 29,
   "metadata": {
    "executionInfo": {
     "elapsed": 228,
     "status": "ok",
     "timestamp": 1647992334027,
     "user": {
      "displayName": "Timur Khabibullin",
      "photoUrl": "https://lh3.googleusercontent.com/a-/AOh14GhOK0kcrUXUwPQDbjACA0rItmrC9sTNoFqjgi6gFg=s64",
      "userId": "18246770792160690538"
     },
     "user_tz": -180
    },
    "id": "0QLb8FNMXkG6"
   },
   "outputs": [],
   "source": [
    "import os\n",
    "from tensorflow.keras import layers\n",
    "from tensorflow import keras\n",
    "import tensorflow as tf\n",
    "\n",
    "from sklearn.model_selection import train_test_split\n",
    "from ast import literal_eval\n",
    "\n",
    "import matplotlib.pyplot as plt\n",
    "import pandas as pd\n",
    "import numpy as np"
   ]
  },
  {
   "cell_type": "code",
   "execution_count": 30,
   "metadata": {},
   "outputs": [
    {
     "data": {
      "text/plain": [
       "'/home/margarita/github/hse-nlp-2022/data/processed'"
      ]
     },
     "execution_count": 30,
     "metadata": {},
     "output_type": "execute_result"
    }
   ],
   "source": [
    "ROOT_DIR = os.path.split(os.getcwd())[0]\n",
    "DATA_DIR = os.path.join(ROOT_DIR, 'data', 'processed')\n",
    "DATA_DIR\n"
   ]
  },
  {
   "cell_type": "markdown",
   "metadata": {
    "colab": {
     "base_uri": "https://localhost:8080/"
    },
    "executionInfo": {
     "elapsed": 2339,
     "status": "ok",
     "timestamp": 1647992336600,
     "user": {
      "displayName": "Timur Khabibullin",
      "photoUrl": "https://lh3.googleusercontent.com/a-/AOh14GhOK0kcrUXUwPQDbjACA0rItmrC9sTNoFqjgi6gFg=s64",
      "userId": "18246770792160690538"
     },
     "user_tz": -180
    },
    "id": "lN7oYnsKt8q1",
    "outputId": "cdf52d13-013a-4c3e-f2a0-41d7c020b28e"
   },
   "source": [
    "from google.colab import drive\n",
    "drive.mount('/content/drive')"
   ]
  },
  {
   "cell_type": "markdown",
   "metadata": {
    "id": "Y9ZLifBcXkG7"
   },
   "source": [
    "## Предварительная работа с данными\n",
    "Загрузим предобработанный датасет в датафрейм `pandas`. Из абстрактов были предварительно удалены знаки препинания, сам текст переведен в lower case."
   ]
  },
  {
   "cell_type": "code",
   "execution_count": 31,
   "metadata": {
    "colab": {
     "base_uri": "https://localhost:8080/",
     "height": 202
    },
    "executionInfo": {
     "elapsed": 1350,
     "status": "ok",
     "timestamp": 1647992337944,
     "user": {
      "displayName": "Timur Khabibullin",
      "photoUrl": "https://lh3.googleusercontent.com/a-/AOh14GhOK0kcrUXUwPQDbjACA0rItmrC9sTNoFqjgi6gFg=s64",
      "userId": "18246770792160690538"
     },
     "user_tz": -180
    },
    "id": "fSEY9n18XkG8",
    "outputId": "2ba2cb91-160d-4e0d-b1b2-0da743964a89"
   },
   "outputs": [
    {
     "data": {
      "text/html": [
       "<div>\n",
       "<style scoped>\n",
       "    .dataframe tbody tr th:only-of-type {\n",
       "        vertical-align: middle;\n",
       "    }\n",
       "\n",
       "    .dataframe tbody tr th {\n",
       "        vertical-align: top;\n",
       "    }\n",
       "\n",
       "    .dataframe thead th {\n",
       "        text-align: right;\n",
       "    }\n",
       "</style>\n",
       "<table border=\"1\" class=\"dataframe\">\n",
       "  <thead>\n",
       "    <tr style=\"text-align: right;\">\n",
       "      <th></th>\n",
       "      <th>journal</th>\n",
       "      <th>DOI</th>\n",
       "      <th>abstract</th>\n",
       "      <th>keywords</th>\n",
       "    </tr>\n",
       "  </thead>\n",
       "  <tbody>\n",
       "    <tr>\n",
       "      <th>0</th>\n",
       "      <td>ieee-proc</td>\n",
       "      <td>10.1109/JPROC.2013.2257631</td>\n",
       "      <td>the wireless sensor network wsn technology spa...</td>\n",
       "      <td>['Control systems']</td>\n",
       "    </tr>\n",
       "    <tr>\n",
       "      <th>1</th>\n",
       "      <td>ieee-proc</td>\n",
       "      <td>10.1109/JPROC.2010.2064151</td>\n",
       "      <td>owing in part to complementary metaloxidesemic...</td>\n",
       "      <td>['Logic gates']</td>\n",
       "    </tr>\n",
       "    <tr>\n",
       "      <th>2</th>\n",
       "      <td>ieee-proc</td>\n",
       "      <td>10.1109/JPROC.2010.2065211</td>\n",
       "      <td>semiconductor nanowires have attracted conside...</td>\n",
       "      <td>['Silicon']</td>\n",
       "    </tr>\n",
       "    <tr>\n",
       "      <th>3</th>\n",
       "      <td>ieee-proc</td>\n",
       "      <td>10.1109/JPROC.2010.2063411</td>\n",
       "      <td>power density has grown to be the dominant cha...</td>\n",
       "      <td>['Logic gates']</td>\n",
       "    </tr>\n",
       "    <tr>\n",
       "      <th>4</th>\n",
       "      <td>ieee-proc</td>\n",
       "      <td>10.1109/JPROC.2010.2070470</td>\n",
       "      <td>steep subthreshold swing transistors based on ...</td>\n",
       "      <td>['Logic gates']</td>\n",
       "    </tr>\n",
       "  </tbody>\n",
       "</table>\n",
       "</div>"
      ],
      "text/plain": [
       "     journal                         DOI  \\\n",
       "0  ieee-proc  10.1109/JPROC.2013.2257631   \n",
       "1  ieee-proc  10.1109/JPROC.2010.2064151   \n",
       "2  ieee-proc  10.1109/JPROC.2010.2065211   \n",
       "3  ieee-proc  10.1109/JPROC.2010.2063411   \n",
       "4  ieee-proc  10.1109/JPROC.2010.2070470   \n",
       "\n",
       "                                            abstract             keywords  \n",
       "0  the wireless sensor network wsn technology spa...  ['Control systems']  \n",
       "1  owing in part to complementary metaloxidesemic...      ['Logic gates']  \n",
       "2  semiconductor nanowires have attracted conside...          ['Silicon']  \n",
       "3  power density has grown to be the dominant cha...      ['Logic gates']  \n",
       "4  steep subthreshold swing transistors based on ...      ['Logic gates']  "
      ]
     },
     "execution_count": 31,
     "metadata": {},
     "output_type": "execute_result"
    }
   ],
   "source": [
    "fname = os.path.join(DATA_DIR, 'top5.csv')\n",
    "data = pd.read_csv(fname, sep=',', quotechar='\"', encoding='utf-8', engine='python')\n",
    "data.head()"
   ]
  },
  {
   "cell_type": "markdown",
   "metadata": {
    "id": "dGnTBdNcXkG9"
   },
   "source": [
    "В качестве текстовых фичей мы используем абстракты `abstract`, в качестве лейблов - клчевые слова `keywords`, указанные в соответствующих статьях.\n"
   ]
  },
  {
   "cell_type": "code",
   "execution_count": 32,
   "metadata": {
    "colab": {
     "base_uri": "https://localhost:8080/"
    },
    "executionInfo": {
     "elapsed": 15,
     "status": "ok",
     "timestamp": 1647992337945,
     "user": {
      "displayName": "Timur Khabibullin",
      "photoUrl": "https://lh3.googleusercontent.com/a-/AOh14GhOK0kcrUXUwPQDbjACA0rItmrC9sTNoFqjgi6gFg=s64",
      "userId": "18246770792160690538"
     },
     "user_tz": -180
    },
    "id": "rBYCA3VlXkG-",
    "outputId": "b5dee20c-fb99-42c1-9395-9c31e2873dd9"
   },
   "outputs": [
    {
     "name": "stdout",
     "output_type": "stream",
     "text": [
      "Количество статей: 17162\n"
     ]
    }
   ],
   "source": [
    "print(f\"Количество статей: {len(data)}\")"
   ]
  },
  {
   "cell_type": "markdown",
   "metadata": {
    "id": "neWiOMf6XkHF"
   },
   "source": [
    "Приведем лейблы к более удобному формату:"
   ]
  },
  {
   "cell_type": "code",
   "execution_count": 33,
   "metadata": {
    "colab": {
     "base_uri": "https://localhost:8080/"
    },
    "executionInfo": {
     "elapsed": 909,
     "status": "ok",
     "timestamp": 1647992338846,
     "user": {
      "displayName": "Timur Khabibullin",
      "photoUrl": "https://lh3.googleusercontent.com/a-/AOh14GhOK0kcrUXUwPQDbjACA0rItmrC9sTNoFqjgi6gFg=s64",
      "userId": "18246770792160690538"
     },
     "user_tz": -180
    },
    "id": "JpzIc6YIXkHG",
    "outputId": "6003088e-7113-4a0d-dbf6-50ea462fb999"
   },
   "outputs": [
    {
     "data": {
      "text/plain": [
       "array([list(['Control systems']), list(['Logic gates']),\n",
       "       list(['Silicon']), list(['Logic gates']), list(['Logic gates'])],\n",
       "      dtype=object)"
      ]
     },
     "execution_count": 33,
     "metadata": {},
     "output_type": "execute_result"
    }
   ],
   "source": [
    "data[\"keywords\"] = data[\"keywords\"].apply(\n",
    "    lambda x: literal_eval(x)\n",
    ")\n",
    "data[\"keywords\"].values[:5]"
   ]
  },
  {
   "cell_type": "markdown",
   "metadata": {
    "id": "8AGpOAiqXkHG"
   },
   "source": [
    "Разобьем данные на тестовую, валидационную и тренировочную выборки."
   ]
  },
  {
   "cell_type": "code",
   "execution_count": 34,
   "metadata": {
    "colab": {
     "base_uri": "https://localhost:8080/"
    },
    "executionInfo": {
     "elapsed": 9,
     "status": "ok",
     "timestamp": 1647992338847,
     "user": {
      "displayName": "Timur Khabibullin",
      "photoUrl": "https://lh3.googleusercontent.com/a-/AOh14GhOK0kcrUXUwPQDbjACA0rItmrC9sTNoFqjgi6gFg=s64",
      "userId": "18246770792160690538"
     },
     "user_tz": -180
    },
    "id": "N_-7y_ZEXkHH",
    "outputId": "0f130410-eb66-423d-bdab-d3580cba723f"
   },
   "outputs": [
    {
     "name": "stdout",
     "output_type": "stream",
     "text": [
      "Статей в тренировочной выборке: 15445\n",
      "Статей в валидационной выборке: 858\n",
      "Статей в тестовой выборке: 859\n"
     ]
    },
    {
     "name": "stderr",
     "output_type": "stream",
     "text": [
      "/home/margarita/anaconda3/lib/python3.9/site-packages/pandas/core/frame.py:4906: SettingWithCopyWarning: \n",
      "A value is trying to be set on a copy of a slice from a DataFrame\n",
      "\n",
      "See the caveats in the documentation: https://pandas.pydata.org/pandas-docs/stable/user_guide/indexing.html#returning-a-view-versus-a-copy\n",
      "  return super().drop(\n"
     ]
    }
   ],
   "source": [
    "test_split = 0.1\n",
    "\n",
    "train_df, test_df = train_test_split(\n",
    "    data,\n",
    "    test_size=test_split,\n",
    ")\n",
    "\n",
    "val_df = test_df.sample(frac=0.5)\n",
    "test_df.drop(val_df.index, inplace=True)\n",
    "\n",
    "print(f\"Статей в тренировочной выборке: {len(train_df)}\")\n",
    "print(f\"Статей в валидационной выборке: {len(val_df)}\")\n",
    "print(f\"Статей в тестовой выборке: {len(test_df)}\")"
   ]
  },
  {
   "cell_type": "markdown",
   "metadata": {
    "id": "HN9kvaK6XkHI"
   },
   "source": [
    "## Создание словаря и one-hot encoding\n",
    "\n",
    "Используя слой `StringLookUp`, получим словарь из ключевых слов и закодируем их."
   ]
  },
  {
   "cell_type": "code",
   "execution_count": 35,
   "metadata": {
    "colab": {
     "base_uri": "https://localhost:8080/"
    },
    "executionInfo": {
     "elapsed": 2653,
     "status": "ok",
     "timestamp": 1647992341495,
     "user": {
      "displayName": "Timur Khabibullin",
      "photoUrl": "https://lh3.googleusercontent.com/a-/AOh14GhOK0kcrUXUwPQDbjACA0rItmrC9sTNoFqjgi6gFg=s64",
      "userId": "18246770792160690538"
     },
     "user_tz": -180
    },
    "id": "uVhVbe6nXkHJ",
    "outputId": "ea343d7a-6a65-4145-8134-d6872bca0b07"
   },
   "outputs": [
    {
     "name": "stdout",
     "output_type": "stream",
     "text": [
      "Словарь:\n",
      "\n",
      "['[UNK]', 'Control systems', 'Logic gates', 'Equations', 'Silicon', 'Linear systems']\n",
      "\n",
      "Пример закодированного вектора:\n",
      "\n",
      "[1. 0. 0. 0. 0. 0.]\n"
     ]
    }
   ],
   "source": [
    "terms = tf.ragged.constant(train_df[\"keywords\"].values)\n",
    "lookup = tf.keras.layers.StringLookup(output_mode=\"multi_hot\")\n",
    "lookup.adapt(terms)\n",
    "vocab = lookup.get_vocabulary()\n",
    "\n",
    "\n",
    "def invert_multi_hot(encoded_labels):\n",
    "    hot_indices = np.argwhere(encoded_labels == 1.0)[..., 0]\n",
    "    return np.take(vocab, hot_indices)\n",
    "\n",
    "\n",
    "print(\"Словарь:\\n\")\n",
    "print(vocab)\n",
    "print()\n",
    "example = tf.ragged.constant(vocab)[0]\n",
    "print(\"Пример закодированного вектора:\\n\")\n",
    "print(lookup(example).numpy())"
   ]
  },
  {
   "cell_type": "markdown",
   "metadata": {
    "id": "qK7R12iIXkHL"
   },
   "source": [
    "## Сбор итогового датасета\n",
    "\n",
    "Для дальнейшего обучения будет полезно посмотреть на характеристики абстрактов."
   ]
  },
  {
   "cell_type": "code",
   "execution_count": 36,
   "metadata": {
    "colab": {
     "base_uri": "https://localhost:8080/"
    },
    "executionInfo": {
     "elapsed": 472,
     "status": "ok",
     "timestamp": 1647992341963,
     "user": {
      "displayName": "Timur Khabibullin",
      "photoUrl": "https://lh3.googleusercontent.com/a-/AOh14GhOK0kcrUXUwPQDbjACA0rItmrC9sTNoFqjgi6gFg=s64",
      "userId": "18246770792160690538"
     },
     "user_tz": -180
    },
    "id": "jE_32GiuXkHM",
    "outputId": "b1b4bb6d-e19f-40f5-ca80-8b6bc0d71dfb"
   },
   "outputs": [
    {
     "data": {
      "text/plain": [
       "count    15445.000000\n",
       "mean       111.826157\n",
       "std         55.927742\n",
       "min          2.000000\n",
       "25%         68.000000\n",
       "50%        105.000000\n",
       "75%        148.000000\n",
       "max        390.000000\n",
       "Name: abstract, dtype: float64"
      ]
     },
     "execution_count": 36,
     "metadata": {},
     "output_type": "execute_result"
    }
   ],
   "source": [
    "train_df[\"abstract\"].apply(lambda x: len(x.split(\" \"))).describe()"
   ]
  },
  {
   "cell_type": "markdown",
   "metadata": {
    "id": "B6Z_6RTsXkHM"
   },
   "source": [
    "Видим, что у половины статей длина абстракта не превышает 105 слов. Таким образом, в дальнейшем разумно брать примерно такую максимальную длину текста для обучения модели."
   ]
  },
  {
   "cell_type": "markdown",
   "metadata": {},
   "source": [
    "Соберем датасет, состоящий из абстрактов и one-hot векторов, представляющих ключевые слова."
   ]
  },
  {
   "cell_type": "code",
   "execution_count": 21,
   "metadata": {
    "executionInfo": {
     "elapsed": 7,
     "status": "ok",
     "timestamp": 1647992341964,
     "user": {
      "displayName": "Timur Khabibullin",
      "photoUrl": "https://lh3.googleusercontent.com/a-/AOh14GhOK0kcrUXUwPQDbjACA0rItmrC9sTNoFqjgi6gFg=s64",
      "userId": "18246770792160690538"
     },
     "user_tz": -180
    },
    "id": "lgHUrKgJXkHM"
   },
   "outputs": [],
   "source": [
    "max_seqlen = 150\n",
    "batch_size = 128\n",
    "padding_token = \"<pad>\"\n",
    "auto = tf.data.AUTOTUNE\n",
    "\n",
    "\n",
    "def make_dataset(dataframe, is_train=True):\n",
    "    labels = tf.ragged.constant(dataframe[\"keywords\"].values)\n",
    "    label_binarized = lookup(labels).numpy()\n",
    "    dataset = tf.data.Dataset.from_tensor_slices(\n",
    "        (dataframe[\"abstract\"].values, label_binarized)\n",
    "    )\n",
    "    dataset = dataset.shuffle(batch_size * 10) if is_train else dataset\n",
    "    return dataset.batch(batch_size)\n"
   ]
  },
  {
   "cell_type": "code",
   "execution_count": 37,
   "metadata": {
    "executionInfo": {
     "elapsed": 342,
     "status": "ok",
     "timestamp": 1647992342300,
     "user": {
      "displayName": "Timur Khabibullin",
      "photoUrl": "https://lh3.googleusercontent.com/a-/AOh14GhOK0kcrUXUwPQDbjACA0rItmrC9sTNoFqjgi6gFg=s64",
      "userId": "18246770792160690538"
     },
     "user_tz": -180
    },
    "id": "bgTuYc7kXkHN"
   },
   "outputs": [],
   "source": [
    "train_dataset = make_dataset(train_df, is_train=True)\n",
    "validation_dataset = make_dataset(val_df, is_train=False)\n",
    "test_dataset = make_dataset(test_df, is_train=False)"
   ]
  },
  {
   "cell_type": "markdown",
   "metadata": {
    "id": "hoCSNRvVXkHO"
   },
   "source": [
    "Выведем некоторые примеры из этого датасета:"
   ]
  },
  {
   "cell_type": "code",
   "execution_count": 38,
   "metadata": {
    "colab": {
     "base_uri": "https://localhost:8080/"
    },
    "executionInfo": {
     "elapsed": 6,
     "status": "ok",
     "timestamp": 1647992342301,
     "user": {
      "displayName": "Timur Khabibullin",
      "photoUrl": "https://lh3.googleusercontent.com/a-/AOh14GhOK0kcrUXUwPQDbjACA0rItmrC9sTNoFqjgi6gFg=s64",
      "userId": "18246770792160690538"
     },
     "user_tz": -180
    },
    "id": "AAQyEJjZXkHO",
    "outputId": "29121cf1-d406-42c0-afb4-2847ac45114b"
   },
   "outputs": [
    {
     "name": "stdout",
     "output_type": "stream",
     "text": [
      "Abstract: b'the design of a residual generator for fault detection and isolation fdi in nonlinear systems which are affine in the control signals and in the failure modes is studied first the problem statement used for linear systems is extended and a set of sufficient conditions for the existence of a solution is given next circumstances under which highgain observers for uniformly observable systems can be used in the synthesis of the residual generator are provided'\n",
      "Label(s): ['Control systems' 'Linear systems']\n",
      " \n",
      "Abstract: b'this note shows that beyond the expected basic results on supervisor existence and synthesis the temporal logic systems analysis for the invariance control of an arbitrary past formula p yields new insights into supremal control of temporal safety these insights come in the form of equivalent temporal characterizations one characterization allows a naturallanguage interpretation which provides a very good intuitive feel of the supremal controllability concept another provides a structurally elegant representation revealing that the past formula p must never be stronger than some fixed logic constant importantly from the control synthesis viewpoint these temporal characterizations provide the opportunity to use several industrialstrength commercially available theorem provers to accomplish the synthesis task in a transparent fashion finally a controllable canonical form  unifying the supremal exact and infimal existences of temporalsafety control  is exhibited and its theoretical significance is discussed'\n",
      "Label(s): ['Control systems']\n",
      " \n",
      "Abstract: b'a new approach for the solution of the regulator problem for linear discretetime dynamical systems with nongaussian disturbances is proposed this approach generalizes a previous result concerning the definition of the quadratic optimal regulator it consists of the definition of the polynomial optimal algorithm of an order spl nu for the solution of the linear quadratic nongaussian stochastic regulator problem for systems with partial state information the validity of the separation principle has also been proved in this case numerical simulations show the high performance of the proposed method with respect to the classical linear regulation techniques'\n",
      "Label(s): ['Control systems' 'Equations']\n",
      " \n",
      "Abstract: b'this paper considers hsub spl infin control problems involving discretetime uncertain linear systems the uncertainty is supposed to belong to convexbounded domains and no additional assumptions are made as for instance matching conditions two hsub spl infin guaranteed cost control problems are solved the first one concerns the determination of a state feedback gain if one exists in such way the hsub spl infin norm of a certain transfer function remains bounded by a prespecified hsub spl infin level for all possible models the second one includes this bound as an additional variable to be minimized to achieve the smallest feasible limiting bound the results follow from the simple geometry of those problems which are shown to be convex in the particular parametric space under consideration an example illustrates the theory '\n",
      "Label(s): ['Control systems']\n",
      " \n",
      "Abstract: b'this paper comments on the result of the paper by kim ibid vol  the estimate of the stability robustness of linear timedelay systems in that paper is compared with the one which is solved in a riccati matrix inequality framework in reply kim acknowledge that his result needs the selection of a matrix q and a scalar spl alpha which maximize the bound spl etasub kq spl alpha the result proposed by oobafunahashi that does not need this selection is summarized'\n",
      "Label(s): ['Control systems' 'Linear systems']\n",
      " \n"
     ]
    }
   ],
   "source": [
    "text_batch, label_batch = next(iter(train_dataset))\n",
    "\n",
    "for i, text in enumerate(text_batch[:5]):\n",
    "    label = label_batch[i].numpy()[None, ...]\n",
    "    print(f\"Abstract: {text}\")\n",
    "    print(f\"Label(s): {invert_multi_hot(label[0])}\")\n",
    "    print(\" \")"
   ]
  },
  {
   "cell_type": "markdown",
   "metadata": {
    "id": "9goj0wPCXkHP"
   },
   "source": [
    "## Векторизация текста\n",
    "Посмотрим, насколько большим будет словарь, полученный из абстрактов.\n"
   ]
  },
  {
   "cell_type": "code",
   "execution_count": null,
   "metadata": {
    "colab": {
     "base_uri": "https://localhost:8080/"
    },
    "executionInfo": {
     "elapsed": 735,
     "status": "ok",
     "timestamp": 1647992343032,
     "user": {
      "displayName": "Timur Khabibullin",
      "photoUrl": "https://lh3.googleusercontent.com/a-/AOh14GhOK0kcrUXUwPQDbjACA0rItmrC9sTNoFqjgi6gFg=s64",
      "userId": "18246770792160690538"
     },
     "user_tz": -180
    },
    "id": "VTryJV38XkHP",
    "outputId": "8ebc1163-fde6-4950-c700-2c4b9fe76a72"
   },
   "outputs": [],
   "source": [
    "vocabulary = set()\n",
    "train_df[\"abstract\"].str.split().apply(vocabulary.update)\n",
    "vocabulary_size = len(vocabulary)\n",
    "print(\"Размер словаря:\", vocabulary_size)"
   ]
  },
  {
   "cell_type": "markdown",
   "metadata": {},
   "source": [
    "\n",
    "Для того, чтобы модель могла работать с нашими текстами, нужно конвертировать информацию в числа. Для этого воспользуемся готовым слоем `TextVectorization`. Сначала этот слой разобьет тест на биграммы, потом выдаст представления, используя `TF-IDF`."
   ]
  },
  {
   "cell_type": "code",
   "execution_count": 41,
   "metadata": {
    "executionInfo": {
     "elapsed": 10630,
     "status": "ok",
     "timestamp": 1647992353659,
     "user": {
      "displayName": "Timur Khabibullin",
      "photoUrl": "https://lh3.googleusercontent.com/a-/AOh14GhOK0kcrUXUwPQDbjACA0rItmrC9sTNoFqjgi6gFg=s64",
      "userId": "18246770792160690538"
     },
     "user_tz": -180
    },
    "id": "ofKh3IxqXkHP"
   },
   "outputs": [],
   "source": [
    "text_vectorizer = layers.TextVectorization(\n",
    "    max_tokens=vocabulary_size, ngrams=2, output_mode=\"tf_idf\"\n",
    ")\n",
    "\n",
    "# `TextVectorization` layer needs to be adapted as per the vocabulary from our\n",
    "# training set.\n",
    "with tf.device(\"/CPU:0\"):\n",
    "    text_vectorizer.adapt(train_dataset.map(lambda text, label: text))\n",
    "\n",
    "train_dataset = train_dataset.map(\n",
    "    lambda text, label: (text_vectorizer(text), label), num_parallel_calls=auto\n",
    ").prefetch(auto)\n",
    "validation_dataset = validation_dataset.map(\n",
    "    lambda text, label: (text_vectorizer(text), label), num_parallel_calls=auto\n",
    ").prefetch(auto)\n",
    "test_dataset = test_dataset.map(\n",
    "    lambda text, label: (text_vectorizer(text), label), num_parallel_calls=auto\n",
    ").prefetch(auto)\n"
   ]
  },
  {
   "cell_type": "markdown",
   "metadata": {
    "id": "tdFfBZ_zXkHQ"
   },
   "source": [
    "## Обучаемая модель\n",
    "В качестве модели используем достаточно простую сеть, состоящую из пары полносвязных слоев с ReLU в качестве функции активации.\n"
   ]
  },
  {
   "cell_type": "code",
   "execution_count": 50,
   "metadata": {
    "executionInfo": {
     "elapsed": 249,
     "status": "ok",
     "timestamp": 1647993340193,
     "user": {
      "displayName": "Timur Khabibullin",
      "photoUrl": "https://lh3.googleusercontent.com/a-/AOh14GhOK0kcrUXUwPQDbjACA0rItmrC9sTNoFqjgi6gFg=s64",
      "userId": "18246770792160690538"
     },
     "user_tz": -180
    },
    "id": "90s0VMiMXkHR"
   },
   "outputs": [],
   "source": [
    "\n",
    "def make_model():\n",
    "    shallow_mlp_model = keras.Sequential(\n",
    "        [\n",
    "            layers.Dense(512, activation=\"relu\"),\n",
    "            layers.Dense(256, activation=\"relu\"),\n",
    "            layers.Dense(lookup.vocabulary_size(), activation=\"sigmoid\"),\n",
    "        ]  # More on why \"sigmoid\" has been used here in a moment.\n",
    "    )\n",
    "    return shallow_mlp_model\n"
   ]
  },
  {
   "cell_type": "code",
   "execution_count": 51,
   "metadata": {
    "colab": {
     "base_uri": "https://localhost:8080/",
     "height": 1000
    },
    "executionInfo": {
     "elapsed": 192778,
     "status": "ok",
     "timestamp": 1647993534801,
     "user": {
      "displayName": "Timur Khabibullin",
      "photoUrl": "https://lh3.googleusercontent.com/a-/AOh14GhOK0kcrUXUwPQDbjACA0rItmrC9sTNoFqjgi6gFg=s64",
      "userId": "18246770792160690538"
     },
     "user_tz": -180
    },
    "id": "MMqHFt8RXkHS",
    "outputId": "f5baae3e-0331-408b-8511-dc1cb79455b2"
   },
   "outputs": [
    {
     "name": "stdout",
     "output_type": "stream",
     "text": [
      "Epoch 1/20\n",
      "250/250 [==============================] - 10s 36ms/step - loss: 0.1523 - categorical_accuracy: 0.3243 - val_loss: 0.1303 - val_categorical_accuracy: 0.3305\n",
      "Epoch 2/20\n",
      "250/250 [==============================] - 9s 34ms/step - loss: 0.0477 - categorical_accuracy: 0.5337 - val_loss: 0.1542 - val_categorical_accuracy: 0.3108\n",
      "Epoch 3/20\n",
      "250/250 [==============================] - 9s 35ms/step - loss: 0.0126 - categorical_accuracy: 0.5746 - val_loss: 0.2108 - val_categorical_accuracy: 0.2995\n",
      "Epoch 4/20\n",
      "250/250 [==============================] - 9s 35ms/step - loss: 0.0052 - categorical_accuracy: 0.5914 - val_loss: 0.2454 - val_categorical_accuracy: 0.3069\n",
      "Epoch 5/20\n",
      "250/250 [==============================] - 9s 36ms/step - loss: 0.0039 - categorical_accuracy: 0.6015 - val_loss: 0.2692 - val_categorical_accuracy: 0.3209\n",
      "Epoch 6/20\n",
      "250/250 [==============================] - 9s 35ms/step - loss: 0.0042 - categorical_accuracy: 0.6029 - val_loss: 0.2870 - val_categorical_accuracy: 0.2956\n",
      "Epoch 7/20\n",
      "250/250 [==============================] - 9s 36ms/step - loss: 0.0064 - categorical_accuracy: 0.5927 - val_loss: 0.3077 - val_categorical_accuracy: 0.2962\n",
      "Epoch 8/20\n",
      "250/250 [==============================] - 9s 35ms/step - loss: 0.0092 - categorical_accuracy: 0.5877 - val_loss: 0.3265 - val_categorical_accuracy: 0.2973\n",
      "Epoch 9/20\n",
      "250/250 [==============================] - 9s 36ms/step - loss: 0.0094 - categorical_accuracy: 0.5712 - val_loss: 0.3516 - val_categorical_accuracy: 0.2962\n",
      "Epoch 10/20\n",
      "250/250 [==============================] - 11s 45ms/step - loss: 0.0076 - categorical_accuracy: 0.5637 - val_loss: 0.3748 - val_categorical_accuracy: 0.2793\n",
      "Epoch 11/20\n",
      "250/250 [==============================] - 11s 45ms/step - loss: 0.0055 - categorical_accuracy: 0.5593 - val_loss: 0.3958 - val_categorical_accuracy: 0.2663\n",
      "Epoch 12/20\n",
      "250/250 [==============================] - 9s 35ms/step - loss: 0.0035 - categorical_accuracy: 0.5558 - val_loss: 0.4310 - val_categorical_accuracy: 0.2748\n",
      "Epoch 13/20\n",
      "250/250 [==============================] - 9s 35ms/step - loss: 0.0023 - categorical_accuracy: 0.5572 - val_loss: 0.4485 - val_categorical_accuracy: 0.2883\n",
      "Epoch 14/20\n",
      "250/250 [==============================] - 9s 35ms/step - loss: 0.0017 - categorical_accuracy: 0.5569 - val_loss: 0.4654 - val_categorical_accuracy: 0.2731\n",
      "Epoch 15/20\n",
      "250/250 [==============================] - 10s 40ms/step - loss: 0.0017 - categorical_accuracy: 0.5634 - val_loss: 0.4792 - val_categorical_accuracy: 0.2928\n",
      "Epoch 16/20\n",
      "250/250 [==============================] - 9s 35ms/step - loss: 0.0017 - categorical_accuracy: 0.5605 - val_loss: 0.4946 - val_categorical_accuracy: 0.2624\n",
      "Epoch 17/20\n",
      "250/250 [==============================] - 9s 36ms/step - loss: 0.0022 - categorical_accuracy: 0.5590 - val_loss: 0.4959 - val_categorical_accuracy: 0.2658\n",
      "Epoch 18/20\n",
      "250/250 [==============================] - 9s 35ms/step - loss: 0.0033 - categorical_accuracy: 0.5576 - val_loss: 0.4963 - val_categorical_accuracy: 0.2748\n",
      "Epoch 19/20\n",
      "250/250 [==============================] - 9s 35ms/step - loss: 0.0049 - categorical_accuracy: 0.5581 - val_loss: 0.5031 - val_categorical_accuracy: 0.2584\n",
      "Epoch 20/20\n",
      "250/250 [==============================] - 9s 35ms/step - loss: 0.0052 - categorical_accuracy: 0.5555 - val_loss: 0.5243 - val_categorical_accuracy: 0.2584\n"
     ]
    },
    {
     "data": {
      "image/png": "[encoded data removed]",
      "text/plain": [
       "<Figure size 432x288 with 1 Axes>"
      ]
     },
     "metadata": {
      "needs_background": "light"
     },
     "output_type": "display_data"
    },
    {
     "data": {
      "image/png": "[encoded data removed]",
      "text/plain": [
       "<Figure size 432x288 with 1 Axes>"
      ]
     },
     "metadata": {
      "needs_background": "light"
     },
     "output_type": "display_data"
    }
   ],
   "source": [
    "epochs = 20\n",
    "\n",
    "shallow_mlp_model = make_model()\n",
    "shallow_mlp_model.compile(\n",
    "    loss=\"binary_crossentropy\", optimizer=\"adam\", metrics=[\"categorical_accuracy\"]\n",
    ")\n",
    "\n",
    "history = shallow_mlp_model.fit(\n",
    "    train_dataset, validation_data=validation_dataset, epochs=epochs\n",
    ")\n",
    "\n",
    "\n",
    "def plot_result(item):\n",
    "    plt.plot(history.history[item], label=item)\n",
    "    plt.plot(history.history[\"val_\" + item], label=\"val_\" + item)\n",
    "    plt.xlabel(\"Epochs\")\n",
    "    plt.ylabel(item)\n",
    "    plt.title(\"Train and Validation {} Over Epochs\".format(item), fontsize=14)\n",
    "    plt.legend()\n",
    "    plt.grid()\n",
    "    plt.show()\n",
    "\n",
    "\n",
    "plot_result(\"loss\")\n",
    "plot_result(\"categorical_accuracy\")"
   ]
  },
  {
   "cell_type": "markdown",
   "metadata": {
    "id": "IHN6JV4lXkHT"
   },
   "source": [
    "Проверим точность на тестовой выборке:"
   ]
  },
  {
   "cell_type": "code",
   "execution_count": 53,
   "metadata": {
    "colab": {
     "base_uri": "https://localhost:8080/"
    },
    "executionInfo": {
     "elapsed": 540,
     "status": "ok",
     "timestamp": 1647993540247,
     "user": {
      "displayName": "Timur Khabibullin",
      "photoUrl": "https://lh3.googleusercontent.com/a-/AOh14GhOK0kcrUXUwPQDbjACA0rItmrC9sTNoFqjgi6gFg=s64",
      "userId": "18246770792160690538"
     },
     "user_tz": -180
    },
    "id": "7wRyOyhnXkHT",
    "outputId": "8cb87404-f190-4bdd-9b69-5e9554a7bc4d"
   },
   "outputs": [
    {
     "name": "stdout",
     "output_type": "stream",
     "text": [
      "14/14 [==============================] - 0s 27ms/step - loss: 0.5267 - categorical_accuracy: 0.2696\n",
      "Categorical accuracy on the test set: 26.96%.\n"
     ]
    }
   ],
   "source": [
    "_, categorical_acc = shallow_mlp_model.evaluate(test_dataset)\n",
    "print(f\"Categorical accuracy on the test set: {round(categorical_acc * 100, 2)}%.\")"
   ]
  }
 ],
 "metadata": {
  "accelerator": "GPU",
  "colab": {
   "collapsed_sections": [],
   "name": "Копия блокнота \"multi_label_classification\"",
   "provenance": [
    {
     "file_id": "https://github.com/keras-team/keras-io/blob/master/examples/nlp/ipynb/multi_label_classification.ipynb",
     "timestamp": 1647981805556
    }
   ]
  },
  "kernelspec": {
   "display_name": "Python 3",
   "language": "python",
   "name": "python3"
  },
  "language_info": {
   "codemirror_mode": {
    "name": "ipython",
    "version": 3
   },
   "file_extension": ".py",
   "mimetype": "text/x-python",
   "name": "python",
   "nbconvert_exporter": "python",
   "pygments_lexer": "ipython3",
   "version": "3.8.8"
  }
 },
 "nbformat": 4,
 "nbformat_minor": 1
}
